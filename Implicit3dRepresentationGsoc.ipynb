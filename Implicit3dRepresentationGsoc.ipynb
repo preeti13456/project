{
  "nbformat": 4,
  "nbformat_minor": 0,
  "metadata": {
    "colab": {
      "name": "Implicit3dRepresentationGsoc.ipynb",
      "provenance": [],
      "authorship_tag": "ABX9TyOfQtpUFsRx7gXhftHHzDOv",
      "include_colab_link": true
    },
    "kernelspec": {
      "name": "python3",
      "display_name": "Python 3"
    }
  },
  "cells": [
    {
      "cell_type": "markdown",
      "metadata": {
        "id": "view-in-github",
        "colab_type": "text"
      },
      "source": [
        "<a href=\"https://colab.research.google.com/github/preeti13456/project/blob/master/Implicit3dRepresentationGsoc.ipynb\" target=\"_parent\"><img src=\"https://colab.research.google.com/assets/colab-badge.svg\" alt=\"Open In Colab\"/></a>"
      ]
    },
    {
      "cell_type": "code",
      "metadata": {
        "id": "BA9pna36K-4V",
        "colab_type": "code",
        "outputId": "b427cf56-e5f8-4019-ddfa-66bd0d189255",
        "colab": {
          "base_uri": "https://localhost:8080/",
          "height": 1000
        }
      },
      "source": [
        "import numpy as np\n",
        "import tensorflow as tf\n",
        "!pip install trimesh\n",
        "import trimesh\n",
        "!pip install tensorflow_graphics\n",
        "import tensorflow_graphics.geometry.transformation as tfg_transformation\n",
        "from tensorflow_graphics.notebooks import threejs_visualization\n",
        "\n",
        "tf.enable_eager_execution()\n",
        "\n",
        "# Download the mesh.\n",
        "!wget https://storage.googleapis.com/tensorflow-graphics/notebooks/index/cow.obj\n",
        "# Load the mesh.\n",
        "mesh = trimesh.load(\"cow.obj\")\n",
        "mesh = {\"vertices\": mesh.vertices, \"faces\": mesh.faces}\n",
        "# Visualize the original mesh.\n",
        "threejs_visualization.triangular_mesh_renderer(mesh, width=400, height=400)\n",
        "# Set the axis and angle parameters.\n",
        "axis = np.array((0., 1., 0.))  # y axis.\n",
        "angle = np.array((np.pi / 4.,))  # 45 degree angle.\n",
        "# Rotate the mesh.\n",
        "mesh['vertices'] = tfg_transformation.axis_angle.rotate(mesh[\"vertices\"], axis,\n",
        "                                                        angle).numpy()\n",
        "# Visualize the rotated mesh.\n",
        "threejs_visualization.triangular_mesh_renderer(mesh, width=400, height=40)"
      ],
      "execution_count": 0,
      "outputs": [
        {
          "output_type": "stream",
          "text": [
            "Collecting trimesh\n",
            "\u001b[?25l  Downloading https://files.pythonhosted.org/packages/43/37/e1226ef981288266c180e3cb968d33b6621f2fceccf292acc829463b9bcb/trimesh-3.6.42-py3-none-any.whl (614kB)\n",
            "\r\u001b[K     |▌                               | 10kB 21.3MB/s eta 0:00:01\r\u001b[K     |█                               | 20kB 6.3MB/s eta 0:00:01\r\u001b[K     |█▋                              | 30kB 7.7MB/s eta 0:00:01\r\u001b[K     |██▏                             | 40kB 8.4MB/s eta 0:00:01\r\u001b[K     |██▊                             | 51kB 6.8MB/s eta 0:00:01\r\u001b[K     |███▏                            | 61kB 7.3MB/s eta 0:00:01\r\u001b[K     |███▊                            | 71kB 8.3MB/s eta 0:00:01\r\u001b[K     |████▎                           | 81kB 8.6MB/s eta 0:00:01\r\u001b[K     |████▉                           | 92kB 8.1MB/s eta 0:00:01\r\u001b[K     |█████▍                          | 102kB 8.5MB/s eta 0:00:01\r\u001b[K     |█████▉                          | 112kB 8.5MB/s eta 0:00:01\r\u001b[K     |██████▍                         | 122kB 8.5MB/s eta 0:00:01\r\u001b[K     |███████                         | 133kB 8.5MB/s eta 0:00:01\r\u001b[K     |███████▌                        | 143kB 8.5MB/s eta 0:00:01\r\u001b[K     |████████                        | 153kB 8.5MB/s eta 0:00:01\r\u001b[K     |████████▌                       | 163kB 8.5MB/s eta 0:00:01\r\u001b[K     |█████████                       | 174kB 8.5MB/s eta 0:00:01\r\u001b[K     |█████████▋                      | 184kB 8.5MB/s eta 0:00:01\r\u001b[K     |██████████▏                     | 194kB 8.5MB/s eta 0:00:01\r\u001b[K     |██████████▊                     | 204kB 8.5MB/s eta 0:00:01\r\u001b[K     |███████████▏                    | 215kB 8.5MB/s eta 0:00:01\r\u001b[K     |███████████▊                    | 225kB 8.5MB/s eta 0:00:01\r\u001b[K     |████████████▎                   | 235kB 8.5MB/s eta 0:00:01\r\u001b[K     |████████████▉                   | 245kB 8.5MB/s eta 0:00:01\r\u001b[K     |█████████████▍                  | 256kB 8.5MB/s eta 0:00:01\r\u001b[K     |█████████████▉                  | 266kB 8.5MB/s eta 0:00:01\r\u001b[K     |██████████████▍                 | 276kB 8.5MB/s eta 0:00:01\r\u001b[K     |███████████████                 | 286kB 8.5MB/s eta 0:00:01\r\u001b[K     |███████████████▌                | 296kB 8.5MB/s eta 0:00:01\r\u001b[K     |████████████████                | 307kB 8.5MB/s eta 0:00:01\r\u001b[K     |████████████████▌               | 317kB 8.5MB/s eta 0:00:01\r\u001b[K     |█████████████████               | 327kB 8.5MB/s eta 0:00:01\r\u001b[K     |█████████████████▋              | 337kB 8.5MB/s eta 0:00:01\r\u001b[K     |██████████████████▏             | 348kB 8.5MB/s eta 0:00:01\r\u001b[K     |██████████████████▊             | 358kB 8.5MB/s eta 0:00:01\r\u001b[K     |███████████████████▏            | 368kB 8.5MB/s eta 0:00:01\r\u001b[K     |███████████████████▊            | 378kB 8.5MB/s eta 0:00:01\r\u001b[K     |████████████████████▎           | 389kB 8.5MB/s eta 0:00:01\r\u001b[K     |████████████████████▉           | 399kB 8.5MB/s eta 0:00:01\r\u001b[K     |█████████████████████▍          | 409kB 8.5MB/s eta 0:00:01\r\u001b[K     |█████████████████████▉          | 419kB 8.5MB/s eta 0:00:01\r\u001b[K     |██████████████████████▍         | 430kB 8.5MB/s eta 0:00:01\r\u001b[K     |███████████████████████         | 440kB 8.5MB/s eta 0:00:01\r\u001b[K     |███████████████████████▌        | 450kB 8.5MB/s eta 0:00:01\r\u001b[K     |████████████████████████        | 460kB 8.5MB/s eta 0:00:01\r\u001b[K     |████████████████████████▌       | 471kB 8.5MB/s eta 0:00:01\r\u001b[K     |█████████████████████████       | 481kB 8.5MB/s eta 0:00:01\r\u001b[K     |█████████████████████████▋      | 491kB 8.5MB/s eta 0:00:01\r\u001b[K     |██████████████████████████▏     | 501kB 8.5MB/s eta 0:00:01\r\u001b[K     |██████████████████████████▊     | 512kB 8.5MB/s eta 0:00:01\r\u001b[K     |███████████████████████████▏    | 522kB 8.5MB/s eta 0:00:01\r\u001b[K     |███████████████████████████▊    | 532kB 8.5MB/s eta 0:00:01\r\u001b[K     |████████████████████████████▎   | 542kB 8.5MB/s eta 0:00:01\r\u001b[K     |████████████████████████████▉   | 552kB 8.5MB/s eta 0:00:01\r\u001b[K     |█████████████████████████████▍  | 563kB 8.5MB/s eta 0:00:01\r\u001b[K     |█████████████████████████████▉  | 573kB 8.5MB/s eta 0:00:01\r\u001b[K     |██████████████████████████████▍ | 583kB 8.5MB/s eta 0:00:01\r\u001b[K     |███████████████████████████████ | 593kB 8.5MB/s eta 0:00:01\r\u001b[K     |███████████████████████████████▌| 604kB 8.5MB/s eta 0:00:01\r\u001b[K     |████████████████████████████████| 614kB 8.5MB/s \n",
            "\u001b[?25hRequirement already satisfied: setuptools in /usr/local/lib/python3.6/dist-packages (from trimesh) (46.3.0)\n",
            "Requirement already satisfied: numpy in /usr/local/lib/python3.6/dist-packages (from trimesh) (1.18.4)\n",
            "Installing collected packages: trimesh\n",
            "Successfully installed trimesh-3.6.42\n",
            "Collecting tensorflow_graphics\n",
            "\u001b[?25l  Downloading https://files.pythonhosted.org/packages/37/60/f1e68da284a16e11db859ff2bb4ac4b8b38893e903d43d846feef6daa3d5/tensorflow_graphics-2020.5.20-py2.py3-none-any.whl (342kB)\n",
            "\u001b[K     |████████████████████████████████| 348kB 8.3MB/s \n",
            "\u001b[?25hRequirement already satisfied: trimesh>=2.37.22 in /usr/local/lib/python3.6/dist-packages (from tensorflow_graphics) (3.6.42)\n",
            "Requirement already satisfied: tensorflow>=2.2.0 in /usr/local/lib/python3.6/dist-packages (from tensorflow_graphics) (2.2.0)\n",
            "Collecting OpenEXR>=1.3.2\n",
            "  Downloading https://files.pythonhosted.org/packages/7c/c4/76bf884f59d3137847edf8b93aaf40f6257d8315d0064e8b1a606ad80b1b/OpenEXR-1.3.2.tar.gz\n",
            "Requirement already satisfied: termcolor>=1.1.0 in /usr/local/lib/python3.6/dist-packages (from tensorflow_graphics) (1.1.0)\n",
            "Requirement already satisfied: absl-py>=0.6.1 in /usr/local/lib/python3.6/dist-packages (from tensorflow_graphics) (0.9.0)\n",
            "Collecting tqdm>=4.45.0\n",
            "\u001b[?25l  Downloading https://files.pythonhosted.org/packages/c9/40/058b12e8ba10e35f89c9b1fdfc2d4c7f8c05947df2d5eb3c7b258019fda0/tqdm-4.46.0-py2.py3-none-any.whl (63kB)\n",
            "\u001b[K     |████████████████████████████████| 71kB 7.9MB/s \n",
            "\u001b[?25hCollecting psutil>=5.7.0\n",
            "\u001b[?25l  Downloading https://files.pythonhosted.org/packages/c4/b8/3512f0e93e0db23a71d82485ba256071ebef99b227351f0f5540f744af41/psutil-5.7.0.tar.gz (449kB)\n",
            "\u001b[K     |████████████████████████████████| 450kB 17.3MB/s \n",
            "\u001b[?25hRequirement already satisfied: numpy>=1.15.4 in /usr/local/lib/python3.6/dist-packages (from tensorflow_graphics) (1.18.4)\n",
            "Requirement already satisfied: tensorflow-datasets>=2.0.0 in /usr/local/lib/python3.6/dist-packages (from tensorflow_graphics) (2.1.0)\n",
            "Requirement already satisfied: matplotlib>=2.2.5 in /usr/local/lib/python3.6/dist-packages (from tensorflow_graphics) (3.2.1)\n",
            "Requirement already satisfied: scipy>=1.1.0 in /usr/local/lib/python3.6/dist-packages (from tensorflow_graphics) (1.4.1)\n",
            "Requirement already satisfied: h5py>=2.10.0 in /usr/local/lib/python3.6/dist-packages (from tensorflow_graphics) (2.10.0)\n",
            "Requirement already satisfied: networkx in /usr/local/lib/python3.6/dist-packages (from tensorflow_graphics) (2.4)\n",
            "Requirement already satisfied: setuptools in /usr/local/lib/python3.6/dist-packages (from trimesh>=2.37.22->tensorflow_graphics) (46.3.0)\n",
            "Requirement already satisfied: tensorboard<2.3.0,>=2.2.0 in /usr/local/lib/python3.6/dist-packages (from tensorflow>=2.2.0->tensorflow_graphics) (2.2.1)\n",
            "Requirement already satisfied: keras-preprocessing>=1.1.0 in /usr/local/lib/python3.6/dist-packages (from tensorflow>=2.2.0->tensorflow_graphics) (1.1.2)\n",
            "Requirement already satisfied: google-pasta>=0.1.8 in /usr/local/lib/python3.6/dist-packages (from tensorflow>=2.2.0->tensorflow_graphics) (0.2.0)\n",
            "Requirement already satisfied: opt-einsum>=2.3.2 in /usr/local/lib/python3.6/dist-packages (from tensorflow>=2.2.0->tensorflow_graphics) (3.2.1)\n",
            "Requirement already satisfied: six>=1.12.0 in /usr/local/lib/python3.6/dist-packages (from tensorflow>=2.2.0->tensorflow_graphics) (1.12.0)\n",
            "Requirement already satisfied: gast==0.3.3 in /usr/local/lib/python3.6/dist-packages (from tensorflow>=2.2.0->tensorflow_graphics) (0.3.3)\n",
            "Requirement already satisfied: grpcio>=1.8.6 in /usr/local/lib/python3.6/dist-packages (from tensorflow>=2.2.0->tensorflow_graphics) (1.29.0)\n",
            "Requirement already satisfied: wheel>=0.26; python_version >= \"3\" in /usr/local/lib/python3.6/dist-packages (from tensorflow>=2.2.0->tensorflow_graphics) (0.34.2)\n",
            "Requirement already satisfied: tensorflow-estimator<2.3.0,>=2.2.0 in /usr/local/lib/python3.6/dist-packages (from tensorflow>=2.2.0->tensorflow_graphics) (2.2.0)\n",
            "Requirement already satisfied: protobuf>=3.8.0 in /usr/local/lib/python3.6/dist-packages (from tensorflow>=2.2.0->tensorflow_graphics) (3.10.0)\n",
            "Requirement already satisfied: wrapt>=1.11.1 in /usr/local/lib/python3.6/dist-packages (from tensorflow>=2.2.0->tensorflow_graphics) (1.12.1)\n",
            "Requirement already satisfied: astunparse==1.6.3 in /usr/local/lib/python3.6/dist-packages (from tensorflow>=2.2.0->tensorflow_graphics) (1.6.3)\n",
            "Requirement already satisfied: future in /usr/local/lib/python3.6/dist-packages (from tensorflow-datasets>=2.0.0->tensorflow_graphics) (0.16.0)\n",
            "Requirement already satisfied: tensorflow-metadata in /usr/local/lib/python3.6/dist-packages (from tensorflow-datasets>=2.0.0->tensorflow_graphics) (0.22.0)\n",
            "Requirement already satisfied: dill in /usr/local/lib/python3.6/dist-packages (from tensorflow-datasets>=2.0.0->tensorflow_graphics) (0.3.1.1)\n",
            "Requirement already satisfied: requests>=2.19.0 in /usr/local/lib/python3.6/dist-packages (from tensorflow-datasets>=2.0.0->tensorflow_graphics) (2.23.0)\n",
            "Requirement already satisfied: promise in /usr/local/lib/python3.6/dist-packages (from tensorflow-datasets>=2.0.0->tensorflow_graphics) (2.3)\n",
            "Requirement already satisfied: attrs>=18.1.0 in /usr/local/lib/python3.6/dist-packages (from tensorflow-datasets>=2.0.0->tensorflow_graphics) (19.3.0)\n",
            "Requirement already satisfied: cycler>=0.10 in /usr/local/lib/python3.6/dist-packages (from matplotlib>=2.2.5->tensorflow_graphics) (0.10.0)\n",
            "Requirement already satisfied: pyparsing!=2.0.4,!=2.1.2,!=2.1.6,>=2.0.1 in /usr/local/lib/python3.6/dist-packages (from matplotlib>=2.2.5->tensorflow_graphics) (2.4.7)\n",
            "Requirement already satisfied: kiwisolver>=1.0.1 in /usr/local/lib/python3.6/dist-packages (from matplotlib>=2.2.5->tensorflow_graphics) (1.2.0)\n",
            "Requirement already satisfied: python-dateutil>=2.1 in /usr/local/lib/python3.6/dist-packages (from matplotlib>=2.2.5->tensorflow_graphics) (2.8.1)\n",
            "Requirement already satisfied: decorator>=4.3.0 in /usr/local/lib/python3.6/dist-packages (from networkx->tensorflow_graphics) (4.4.2)\n",
            "Requirement already satisfied: markdown>=2.6.8 in /usr/local/lib/python3.6/dist-packages (from tensorboard<2.3.0,>=2.2.0->tensorflow>=2.2.0->tensorflow_graphics) (3.2.2)\n",
            "Requirement already satisfied: google-auth<2,>=1.6.3 in /usr/local/lib/python3.6/dist-packages (from tensorboard<2.3.0,>=2.2.0->tensorflow>=2.2.0->tensorflow_graphics) (1.7.2)\n",
            "Requirement already satisfied: werkzeug>=0.11.15 in /usr/local/lib/python3.6/dist-packages (from tensorboard<2.3.0,>=2.2.0->tensorflow>=2.2.0->tensorflow_graphics) (1.0.1)\n",
            "Requirement already satisfied: google-auth-oauthlib<0.5,>=0.4.1 in /usr/local/lib/python3.6/dist-packages (from tensorboard<2.3.0,>=2.2.0->tensorflow>=2.2.0->tensorflow_graphics) (0.4.1)\n",
            "Requirement already satisfied: tensorboard-plugin-wit>=1.6.0 in /usr/local/lib/python3.6/dist-packages (from tensorboard<2.3.0,>=2.2.0->tensorflow>=2.2.0->tensorflow_graphics) (1.6.0.post3)\n",
            "Requirement already satisfied: googleapis-common-protos in /usr/local/lib/python3.6/dist-packages (from tensorflow-metadata->tensorflow-datasets>=2.0.0->tensorflow_graphics) (1.51.0)\n",
            "Requirement already satisfied: certifi>=2017.4.17 in /usr/local/lib/python3.6/dist-packages (from requests>=2.19.0->tensorflow-datasets>=2.0.0->tensorflow_graphics) (2020.4.5.1)\n",
            "Requirement already satisfied: idna<3,>=2.5 in /usr/local/lib/python3.6/dist-packages (from requests>=2.19.0->tensorflow-datasets>=2.0.0->tensorflow_graphics) (2.9)\n",
            "Requirement already satisfied: chardet<4,>=3.0.2 in /usr/local/lib/python3.6/dist-packages (from requests>=2.19.0->tensorflow-datasets>=2.0.0->tensorflow_graphics) (3.0.4)\n",
            "Requirement already satisfied: urllib3!=1.25.0,!=1.25.1,<1.26,>=1.21.1 in /usr/local/lib/python3.6/dist-packages (from requests>=2.19.0->tensorflow-datasets>=2.0.0->tensorflow_graphics) (1.24.3)\n",
            "Requirement already satisfied: importlib-metadata; python_version < \"3.8\" in /usr/local/lib/python3.6/dist-packages (from markdown>=2.6.8->tensorboard<2.3.0,>=2.2.0->tensorflow>=2.2.0->tensorflow_graphics) (1.6.0)\n",
            "Requirement already satisfied: rsa<4.1,>=3.1.4 in /usr/local/lib/python3.6/dist-packages (from google-auth<2,>=1.6.3->tensorboard<2.3.0,>=2.2.0->tensorflow>=2.2.0->tensorflow_graphics) (4.0)\n",
            "Requirement already satisfied: pyasn1-modules>=0.2.1 in /usr/local/lib/python3.6/dist-packages (from google-auth<2,>=1.6.3->tensorboard<2.3.0,>=2.2.0->tensorflow>=2.2.0->tensorflow_graphics) (0.2.8)\n",
            "Requirement already satisfied: cachetools<3.2,>=2.0.0 in /usr/local/lib/python3.6/dist-packages (from google-auth<2,>=1.6.3->tensorboard<2.3.0,>=2.2.0->tensorflow>=2.2.0->tensorflow_graphics) (3.1.1)\n",
            "Requirement already satisfied: requests-oauthlib>=0.7.0 in /usr/local/lib/python3.6/dist-packages (from google-auth-oauthlib<0.5,>=0.4.1->tensorboard<2.3.0,>=2.2.0->tensorflow>=2.2.0->tensorflow_graphics) (1.3.0)\n",
            "Requirement already satisfied: zipp>=0.5 in /usr/local/lib/python3.6/dist-packages (from importlib-metadata; python_version < \"3.8\"->markdown>=2.6.8->tensorboard<2.3.0,>=2.2.0->tensorflow>=2.2.0->tensorflow_graphics) (3.1.0)\n",
            "Requirement already satisfied: pyasn1>=0.1.3 in /usr/local/lib/python3.6/dist-packages (from rsa<4.1,>=3.1.4->google-auth<2,>=1.6.3->tensorboard<2.3.0,>=2.2.0->tensorflow>=2.2.0->tensorflow_graphics) (0.4.8)\n",
            "Requirement already satisfied: oauthlib>=3.0.0 in /usr/local/lib/python3.6/dist-packages (from requests-oauthlib>=0.7.0->google-auth-oauthlib<0.5,>=0.4.1->tensorboard<2.3.0,>=2.2.0->tensorflow>=2.2.0->tensorflow_graphics) (3.1.0)\n",
            "Building wheels for collected packages: OpenEXR, psutil\n",
            "  Building wheel for OpenEXR (setup.py) ... \u001b[?25l\u001b[?25hdone\n",
            "  Created wheel for OpenEXR: filename=OpenEXR-1.3.2-cp36-cp36m-linux_x86_64.whl size=188421 sha256=d88cf110044fe85f4640f19a719acb40032d4faa2886d693d454dec1f081f8ce\n",
            "  Stored in directory: /root/.cache/pip/wheels/41/06/9f/c7dc838815b0e7dfc7d7dc19cc3d677edb47594d8489adc62a\n",
            "  Building wheel for psutil (setup.py) ... \u001b[?25l\u001b[?25hdone\n",
            "  Created wheel for psutil: filename=psutil-5.7.0-cp36-cp36m-linux_x86_64.whl size=272665 sha256=31e2c00baddcd4292bd50997cff189e8f43c99eb85034aba2c594a7519c84568\n",
            "  Stored in directory: /root/.cache/pip/wheels/d7/69/b4/3200b95828d1f0ddb3cb5699083717f4fdbd9b4223d0644c57\n",
            "Successfully built OpenEXR psutil\n",
            "Installing collected packages: OpenEXR, tqdm, psutil, tensorflow-graphics\n",
            "  Found existing installation: tqdm 4.41.1\n",
            "    Uninstalling tqdm-4.41.1:\n",
            "      Successfully uninstalled tqdm-4.41.1\n",
            "  Found existing installation: psutil 5.4.8\n",
            "    Uninstalling psutil-5.4.8:\n",
            "      Successfully uninstalled psutil-5.4.8\n",
            "Successfully installed OpenEXR-1.3.2 psutil-5.7.0 tensorflow-graphics-2020.5.20 tqdm-4.46.0\n"
          ],
          "name": "stdout"
        },
        {
          "output_type": "display_data",
          "data": {
            "application/vnd.colab-display-data+json": {
              "pip_warning": {
                "packages": [
                  "psutil",
                  "tqdm"
                ]
              }
            }
          },
          "metadata": {
            "tags": []
          }
        },
        {
          "output_type": "error",
          "ename": "AttributeError",
          "evalue": "ignored",
          "traceback": [
            "\u001b[0;31m---------------------------------------------------------------------------\u001b[0m",
            "\u001b[0;31mAttributeError\u001b[0m                            Traceback (most recent call last)",
            "\u001b[0;32m<ipython-input-1-2abcc668f02b>\u001b[0m in \u001b[0;36m<module>\u001b[0;34m()\u001b[0m\n\u001b[1;32m      7\u001b[0m \u001b[0;32mfrom\u001b[0m \u001b[0mtensorflow_graphics\u001b[0m\u001b[0;34m.\u001b[0m\u001b[0mnotebooks\u001b[0m \u001b[0;32mimport\u001b[0m \u001b[0mthreejs_visualization\u001b[0m\u001b[0;34m\u001b[0m\u001b[0;34m\u001b[0m\u001b[0m\n\u001b[1;32m      8\u001b[0m \u001b[0;34m\u001b[0m\u001b[0m\n\u001b[0;32m----> 9\u001b[0;31m \u001b[0mtf\u001b[0m\u001b[0;34m.\u001b[0m\u001b[0menable_eager_execution\u001b[0m\u001b[0;34m(\u001b[0m\u001b[0;34m)\u001b[0m\u001b[0;34m\u001b[0m\u001b[0;34m\u001b[0m\u001b[0m\n\u001b[0m\u001b[1;32m     10\u001b[0m \u001b[0;34m\u001b[0m\u001b[0m\n\u001b[1;32m     11\u001b[0m \u001b[0;31m# Download the mesh.\u001b[0m\u001b[0;34m\u001b[0m\u001b[0;34m\u001b[0m\u001b[0;34m\u001b[0m\u001b[0m\n",
            "\u001b[0;31mAttributeError\u001b[0m: module 'tensorflow' has no attribute 'enable_eager_execution'"
          ]
        }
      ]
    },
    {
      "cell_type": "code",
      "metadata": {
        "id": "Q0h5Rl2ALhMr",
        "colab_type": "code",
        "colab": {}
      },
      "source": [
        "\n"
      ],
      "execution_count": 0,
      "outputs": []
    }
  ]
}